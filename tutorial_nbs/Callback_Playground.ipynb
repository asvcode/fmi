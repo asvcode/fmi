{
 "cells": [
  {
   "cell_type": "markdown",
   "id": "5750ef95",
   "metadata": {},
   "source": [
    "## Callback Playground"
   ]
  },
  {
   "cell_type": "markdown",
   "id": "2277cdd5",
   "metadata": {},
   "source": [
    "Notebook that uses `fmi` callbacks"
   ]
  },
  {
   "cell_type": "code",
   "execution_count": 7,
   "id": "881180fa",
   "metadata": {},
   "outputs": [],
   "source": [
    "from fastai.vision.all import *\n",
    "from fastai.medical.imaging import *\n",
    "from fmi.train import *\n",
    "from fmi.pipeline import *"
   ]
  },
  {
   "cell_type": "code",
   "execution_count": 8,
   "id": "8ff09489",
   "metadata": {},
   "outputs": [],
   "source": [
    "pneu = untar_data(URLs.SIIM_SMALL)\n",
    "p_items = get_dicom_files(f'{pneu}/train')\n",
    "df = pd.read_csv(f'{pneu}/labels.csv')"
   ]
  },
  {
   "cell_type": "code",
   "execution_count": 9,
   "id": "d7b390f2",
   "metadata": {},
   "outputs": [],
   "source": [
    "splitter = RandomSplitter(valid_pct=0.1)(p_items)\n",
    "item_tfms = Resize(266)\n",
    "batch_tfms = [ Normalize.from_stats(*imagenet_stats)]\n",
    "\n",
    "pneumothorax = DataBlock(blocks=(ImageBlock(cls=DicomView), CategoryBlock),\n",
    "                   get_x=lambda x:pneu/f\"{x[0]}\",\n",
    "                   get_y=lambda x:x[1],\n",
    "                   splitter=RandomSplitter(valid_pct=0.2),\n",
    "                   item_tfms = item_tfms,\n",
    "                   batch_tfms = batch_tfms)\n",
    "\n",
    "dls = pneumothorax.dataloaders(df[:20].values, \n",
    "                               bs=6, \n",
    "                               num_workers=0,\n",
    "                               drop_last = False,\n",
    "                               get_idxs = None)"
   ]
  },
  {
   "cell_type": "code",
   "execution_count": 10,
   "id": "896e62c9",
   "metadata": {},
   "outputs": [
    {
     "data": {
      "text/plain": [
       "(#16) [(DicomView mode=L size=1024x1024, TensorCategory(1)),(DicomView mode=L size=1024x1024, TensorCategory(0)),(DicomView mode=L size=1024x1024, TensorCategory(0)),(DicomView mode=L size=1024x1024, TensorCategory(0)),(DicomView mode=L size=1024x1024, TensorCategory(0)),(DicomView mode=L size=1024x1024, TensorCategory(1)),(DicomView mode=L size=1024x1024, TensorCategory(0)),(DicomView mode=L size=1024x1024, TensorCategory(0)),(DicomView mode=L size=1024x1024, TensorCategory(1)),(DicomView mode=L size=1024x1024, TensorCategory(0))...]"
      ]
     },
     "execution_count": 10,
     "metadata": {},
     "output_type": "execute_result"
    }
   ],
   "source": [
    "dls.train_ds"
   ]
  },
  {
   "cell_type": "markdown",
   "id": "1e9f7494",
   "metadata": {},
   "source": [
    "Lets see how many times each class is present in `dls.train_ds`"
   ]
  },
  {
   "cell_type": "code",
   "execution_count": 37,
   "id": "53daf260",
   "metadata": {},
   "outputs": [
    {
     "data": {
      "text/plain": [
       "Counter({'Pneumothorax': 5, 'No Pneumothorax': 11})"
      ]
     },
     "execution_count": 37,
     "metadata": {},
     "output_type": "execute_result"
    }
   ],
   "source": [
    "classes = [dls.vocab[i[-1].item()] for i in dls.train_ds]\n",
    "Counter(classes)"
   ]
  },
  {
   "cell_type": "markdown",
   "id": "04aae459",
   "metadata": {},
   "source": [
    "**EpochIteration** - displays `Epoch` and `Iteration` with the option to display images\n",
    "\n",
    "**EpochImageCounter** - counts the number of images in each class after each training epoch"
   ]
  },
  {
   "cell_type": "code",
   "execution_count": 17,
   "id": "708a1a11",
   "metadata": {},
   "outputs": [
    {
     "name": "stdout",
     "output_type": "stream",
     "text": [
      "Train DS Size: 16\n",
      "Batch Size: 6\n"
     ]
    }
   ],
   "source": [
    "learn = vision_learner(dls, \n",
    "                       'resnet18' , \n",
    "                       metrics=[accuracy, error_rate], \n",
    "                       cbs=[EpochIteration(show_img=False),\n",
    "                           EpochImageCounter(dls)])"
   ]
  },
  {
   "cell_type": "code",
   "execution_count": 14,
   "id": "0a1159a7",
   "metadata": {},
   "outputs": [
    {
     "data": {
      "text/html": [
       "<table border=\"1\" class=\"dataframe\">\n",
       "  <thead>\n",
       "    <tr style=\"text-align: left;\">\n",
       "      <th>epoch</th>\n",
       "      <th>train_loss</th>\n",
       "      <th>valid_loss</th>\n",
       "      <th>accuracy</th>\n",
       "      <th>error_rate</th>\n",
       "      <th>time</th>\n",
       "    </tr>\n",
       "  </thead>\n",
       "  <tbody>\n",
       "    <tr>\n",
       "      <td>0</td>\n",
       "      <td>1.442853</td>\n",
       "      <td>0.619244</td>\n",
       "      <td>0.750000</td>\n",
       "      <td>0.250000</td>\n",
       "      <td>00:00</td>\n",
       "    </tr>\n",
       "    <tr>\n",
       "      <td>1</td>\n",
       "      <td>1.091550</td>\n",
       "      <td>0.645191</td>\n",
       "      <td>0.750000</td>\n",
       "      <td>0.250000</td>\n",
       "      <td>00:00</td>\n",
       "    </tr>\n",
       "  </tbody>\n",
       "</table>"
      ],
      "text/plain": [
       "<IPython.core.display.HTML object>"
      ]
     },
     "metadata": {},
     "output_type": "display_data"
    },
    {
     "name": "stdout",
     "output_type": "stream",
     "text": [
      "Training: Epoch: 0 Iter: 0 Loss:0.0\n",
      "Training: Epoch: 0 Iter: 1 Loss:1.9728779792785645\n",
      "Training: Epoch: 0 Iter: 2 Loss:0.5880052447319031\n",
      "Counter({'No Pneumothorax': 11, 'Pneumothorax': 5})\n",
      "Validation: Epoch: 0 Iter: 0 Loss:1.7715716361999512\n",
      "Training: Epoch: 1 Iter: 0 Loss:0.6192443370819092\n",
      "Training: Epoch: 1 Iter: 1 Loss:0.9267821311950684\n",
      "Training: Epoch: 1 Iter: 2 Loss:0.7162213325500488\n",
      "Counter({'No Pneumothorax': 22, 'Pneumothorax': 10})\n",
      "Validation: Epoch: 1 Iter: 0 Loss:0.6453918814659119\n"
     ]
    }
   ],
   "source": [
    "learn.fit(2)"
   ]
  },
  {
   "cell_type": "markdown",
   "id": "c40c4693",
   "metadata": {},
   "source": [
    "With each epoch as expected 11 `No Pneumothorax` and 5 `Pneumothorax` images pass throught the model and after 2 epochs a total of 22 `No Pneumothorax` and 10 `Pneumothorax` images pass through the model"
   ]
  },
  {
   "cell_type": "markdown",
   "id": "3bb621d0",
   "metadata": {},
   "source": [
    "By default `drop_last` is set to `False` in `dataloaders`.  This means that *all* images pass through the model with each epoch. However if you change this to `True` and using `EpochImageCounter` you can see how this affects how many images of each class pass through the model. "
   ]
  },
  {
   "cell_type": "code",
   "execution_count": 42,
   "id": "eb50fc4d",
   "metadata": {},
   "outputs": [
    {
     "name": "stdout",
     "output_type": "stream",
     "text": [
      "Train DS Size: 16\n",
      "Batch Size: 6\n"
     ]
    },
    {
     "data": {
      "text/html": [
       "<table border=\"1\" class=\"dataframe\">\n",
       "  <thead>\n",
       "    <tr style=\"text-align: left;\">\n",
       "      <th>epoch</th>\n",
       "      <th>train_loss</th>\n",
       "      <th>valid_loss</th>\n",
       "      <th>accuracy</th>\n",
       "      <th>error_rate</th>\n",
       "      <th>time</th>\n",
       "    </tr>\n",
       "  </thead>\n",
       "  <tbody>\n",
       "    <tr>\n",
       "      <td>0</td>\n",
       "      <td>1.035917</td>\n",
       "      <td>5.148357</td>\n",
       "      <td>0.250000</td>\n",
       "      <td>0.750000</td>\n",
       "      <td>00:00</td>\n",
       "    </tr>\n",
       "    <tr>\n",
       "      <td>1</td>\n",
       "      <td>1.112166</td>\n",
       "      <td>4.216203</td>\n",
       "      <td>0.250000</td>\n",
       "      <td>0.750000</td>\n",
       "      <td>00:00</td>\n",
       "    </tr>\n",
       "  </tbody>\n",
       "</table>"
      ],
      "text/plain": [
       "<IPython.core.display.HTML object>"
      ]
     },
     "metadata": {},
     "output_type": "display_data"
    },
    {
     "name": "stdout",
     "output_type": "stream",
     "text": [
      "Counter({'No Pneumothorax': 8, 'Pneumothorax': 4})\n",
      "Counter({'No Pneumothorax': 17, 'Pneumothorax': 7})\n"
     ]
    }
   ],
   "source": [
    "dls = pneumothorax.dataloaders(df[:20].values, \n",
    "                               bs=6, \n",
    "                               num_workers=0,\n",
    "                               drop_last = True,\n",
    "                               get_idxs = None)\n",
    "\n",
    "learn = vision_learner(dls, \n",
    "                       'resnet18' , \n",
    "                       metrics=[accuracy, error_rate], \n",
    "                       cbs= EpochImageCounter(dls))\n",
    "learn.fit(2)"
   ]
  },
  {
   "cell_type": "markdown",
   "id": "620a9c9a",
   "metadata": {},
   "source": [
    "With `drop_last` set to `True` and `batch_size` of 6 you would expect 2 iterations (2 * 6 = 12) hence each iteration would have 2 images less that the total number of images in `dls.train_ds` which is 16."
   ]
  },
  {
   "cell_type": "code",
   "execution_count": null,
   "id": "66572082",
   "metadata": {},
   "outputs": [],
   "source": []
  }
 ],
 "metadata": {
  "kernelspec": {
   "display_name": "Python 3",
   "language": "python",
   "name": "python3"
  },
  "language_info": {
   "codemirror_mode": {
    "name": "ipython",
    "version": 3
   },
   "file_extension": ".py",
   "mimetype": "text/x-python",
   "name": "python",
   "nbconvert_exporter": "python",
   "pygments_lexer": "ipython3",
   "version": "3.8.10"
  }
 },
 "nbformat": 4,
 "nbformat_minor": 5
}
