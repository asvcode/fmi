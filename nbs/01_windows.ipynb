{
 "cells": [
  {
   "cell_type": "code",
   "execution_count": null,
   "metadata": {},
   "outputs": [],
   "source": [
    "# default_exp windows\n",
    "%load_ext autoreload\n",
    "%autoreload 2"
   ]
  },
  {
   "cell_type": "markdown",
   "metadata": {},
   "source": [
    "# windows\n",
    "\n",
    "> API details."
   ]
  },
  {
   "cell_type": "code",
   "execution_count": null,
   "metadata": {},
   "outputs": [],
   "source": [
    "#hide\n",
    "from nbdev.showdoc import *"
   ]
  },
  {
   "cell_type": "code",
   "execution_count": null,
   "metadata": {},
   "outputs": [],
   "source": [
    "#export\n",
    "from fastai.torch_basics import *\n",
    "from fastai.data.all import *\n",
    "from fastai.data.external import *\n",
    "\n",
    "from fastai.medical.imaging import PILBase\n",
    "from fastai.medical.imaging import *\n",
    "\n",
    "from PIL import Image"
   ]
  },
  {
   "cell_type": "code",
   "execution_count": null,
   "metadata": {},
   "outputs": [],
   "source": [
    "#export\n",
    "dicom_windows = types.SimpleNamespace(\n",
    "    abdomen_soft=(400,50),\n",
    "    brain=(80,40),\n",
    "    brain_bone=(2800,600),\n",
    "    brain_soft=(375,40),\n",
    "    liver=(150,30),\n",
    "    lungs=(1500,-600),\n",
    "    mediastinum=(350,50),\n",
    "    pe=(40,400),\n",
    "    spine_soft=(250,50),\n",
    "    spine_bone=(1800,400),\n",
    "    subdural=(254,100),\n",
    "    stroke=(8,32)\n",
    ")"
   ]
  },
  {
   "cell_type": "markdown",
   "metadata": {},
   "source": [
    "I = (32-bit signed integer pixels)\n",
    "F = (32-bit floating point pixels)\n",
    "L = (8-bit pixels, black and white)"
   ]
  },
  {
   "cell_type": "code",
   "execution_count": null,
   "metadata": {},
   "outputs": [],
   "source": [
    "#export\n",
    "class PILWindow(PILBase):\n",
    "    \"Specify windows for use with DataBlocks\"\n",
    "    _open_args,_tensor_cls,_show_args = {},TensorDicom,TensorDicom._show_args\n",
    "    @classmethod\n",
    "    def create(cls, fn:(Path,str,bytes), mode=None, window=dicom_windows.lungs, **kwargs)->None:\n",
    "        if isinstance(fn,bytes): im = pydicom.dcmread(pydicom.filebase.DicomBytesIO(fn))\n",
    "        if isinstance(fn,(Path,str)): im = dcmread(fn)\n",
    "            \n",
    "        if window is not None:\n",
    "            scaled = np.array(im.windowed(*window).numpy())*4294967296 #*2**16-1\n",
    "        else:\n",
    "            scaled = np.array(scaled_px(im))\n",
    "        scaled = scaled.astype(np.int32)\n",
    "        return cls(Image.fromarray(scaled))"
   ]
  },
  {
   "cell_type": "code",
   "execution_count": null,
   "metadata": {},
   "outputs": [
    {
     "data": {
      "text/markdown": [
       "<h2 id=\"PILWindow\" class=\"doc_header\"><code>class</code> <code>PILWindow</code><a href=\"\" class=\"source_link\" style=\"float:right\">[source]</a></h2>\n",
       "\n",
       "> <code>PILWindow</code>() :: `PILBase`\n",
       "\n",
       "Specify windows for use with DataBlocks"
      ],
      "text/plain": [
       "<IPython.core.display.Markdown object>"
      ]
     },
     "metadata": {},
     "output_type": "display_data"
    }
   ],
   "source": [
    "show_doc(PILWindow)"
   ]
  },
  {
   "cell_type": "code",
   "execution_count": null,
   "metadata": {},
   "outputs": [],
   "source": [
    "#export\n",
    "class LungWindow(PILBase):\n",
    "    _open_args,_tensor_cls,_show_args = {},TensorDicom,TensorDicom._show_args\n",
    "    @classmethod\n",
    "    def create(cls, fn:(Path,str,bytes), mode=None)->None:\n",
    "        if isinstance(fn,bytes): im = pydicom.dcmread(pydicom.filebase.DicomBytesIO(fn))\n",
    "        if isinstance(fn,(Path,str)): im = dcmread(fn)\n",
    "        scaled = np.array(im.windowed(l=-600, w=1500).numpy())*255\n",
    "        scaled = scaled.astype(np.uint8)\n",
    "        return cls(Image.fromarray(scaled))"
   ]
  },
  {
   "cell_type": "code",
   "execution_count": null,
   "metadata": {},
   "outputs": [
    {
     "data": {
      "text/markdown": [
       "<h2 id=\"LungWindow\" class=\"doc_header\"><code>class</code> <code>LungWindow</code><a href=\"\" class=\"source_link\" style=\"float:right\">[source]</a></h2>\n",
       "\n",
       "> <code>LungWindow</code>() :: `PILBase`\n",
       "\n",
       "This class represents an image object.  To create\n",
       ":py:class:`~PIL.Image.Image` objects, use the appropriate factory\n",
       "functions.  There's hardly ever any reason to call the Image constructor\n",
       "directly.\n",
       "\n",
       "* :py:func:`~PIL.Image.open`\n",
       "* :py:func:`~PIL.Image.new`\n",
       "* :py:func:`~PIL.Image.frombytes`"
      ],
      "text/plain": [
       "<IPython.core.display.Markdown object>"
      ]
     },
     "metadata": {},
     "output_type": "display_data"
    }
   ],
   "source": [
    "show_doc(LungWindow)"
   ]
  },
  {
   "cell_type": "code",
   "execution_count": null,
   "metadata": {},
   "outputs": [],
   "source": [
    "#export\n",
    "class PEWindow(PILBase):\n",
    "    _open_args,_tensor_cls,_show_args = {},TensorDicom,TensorDicom._show_args\n",
    "    @classmethod\n",
    "    def create(cls, fn:(Path,str,bytes), mode=None)->None:\n",
    "        if isinstance(fn,bytes): im = pydicom.dcmread(pydicom.filebase.DicomBytesIO(fn))\n",
    "        if isinstance(fn,(Path,str)): im = dcmread(fn)\n",
    "        scaled = np.array(im.windowed(l=40, w=400).numpy())*255\n",
    "        scaled = scaled.astype(np.uint8)\n",
    "        return cls(Image.fromarray(scaled))"
   ]
  },
  {
   "cell_type": "code",
   "execution_count": null,
   "metadata": {},
   "outputs": [
    {
     "data": {
      "text/markdown": [
       "<h2 id=\"PEWindow\" class=\"doc_header\"><code>class</code> <code>PEWindow</code><a href=\"\" class=\"source_link\" style=\"float:right\">[source]</a></h2>\n",
       "\n",
       "> <code>PEWindow</code>() :: `PILBase`\n",
       "\n",
       "This class represents an image object.  To create\n",
       ":py:class:`~PIL.Image.Image` objects, use the appropriate factory\n",
       "functions.  There's hardly ever any reason to call the Image constructor\n",
       "directly.\n",
       "\n",
       "* :py:func:`~PIL.Image.open`\n",
       "* :py:func:`~PIL.Image.new`\n",
       "* :py:func:`~PIL.Image.frombytes`"
      ],
      "text/plain": [
       "<IPython.core.display.Markdown object>"
      ]
     },
     "metadata": {},
     "output_type": "display_data"
    }
   ],
   "source": [
    "show_doc(PEWindow)"
   ]
  },
  {
   "cell_type": "code",
   "execution_count": null,
   "metadata": {},
   "outputs": [
    {
     "name": "stdout",
     "output_type": "stream",
     "text": [
      "Converted 00_core.ipynb.\n",
      "Converted 01_windows.ipynb.\n",
      "Converted 03_data.ipynb.\n",
      "Converted 90_tutorial.ipynb.\n",
      "Converted index.ipynb.\n"
     ]
    }
   ],
   "source": [
    "#hide\n",
    "from nbdev.export import notebook2script\n",
    "notebook2script()"
   ]
  },
  {
   "cell_type": "code",
   "execution_count": null,
   "metadata": {},
   "outputs": [],
   "source": []
  }
 ],
 "metadata": {
  "kernelspec": {
   "display_name": "Python 3",
   "language": "python",
   "name": "python3"
  }
 },
 "nbformat": 4,
 "nbformat_minor": 2
}
