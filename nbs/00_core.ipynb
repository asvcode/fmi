{
 "cells": [
  {
   "cell_type": "code",
   "execution_count": null,
   "metadata": {},
   "outputs": [
    {
     "name": "stdout",
     "output_type": "stream",
     "text": [
      "The autoreload extension is already loaded. To reload it, use:\n",
      "  %reload_ext autoreload\n"
     ]
    }
   ],
   "source": [
    "# default_exp core\n",
    "%load_ext autoreload\n",
    "%autoreload 2"
   ]
  },
  {
   "cell_type": "markdown",
   "metadata": {},
   "source": [
    "# core\n",
    "\n",
    "> API details."
   ]
  },
  {
   "cell_type": "code",
   "execution_count": null,
   "metadata": {},
   "outputs": [],
   "source": [
    "#hide\n",
    "from nbdev.showdoc import *"
   ]
  },
  {
   "cell_type": "code",
   "execution_count": null,
   "metadata": {},
   "outputs": [],
   "source": [
    "#export\n",
    "from fastai.vision.all import *\n",
    "from fastai.medical.imaging import *\n",
    "from torchvision.utils import save_image"
   ]
  },
  {
   "cell_type": "markdown",
   "metadata": {},
   "source": [
    "### Instance Sort"
   ]
  },
  {
   "cell_type": "code",
   "execution_count": null,
   "metadata": {},
   "outputs": [],
   "source": [
    "#export\n",
    "def instance_sort(folder:(Path, L)):\n",
    "    \"sort files by instance number\"\n",
    "    if isinstance(folder, Path): folder = get_dicom_files(folder)\n",
    "    if isinstance(folder, L): folder = folder\n",
    "    sorted_files = []\n",
    "    for file in folder:\n",
    "        instance = dcmread(file)[0x20, 0x13].value\n",
    "        sorted_files.append([instance, file])\n",
    "    return L(sorted(sorted_files))"
   ]
  },
  {
   "cell_type": "code",
   "execution_count": null,
   "metadata": {},
   "outputs": [
    {
     "data": {
      "text/markdown": [
       "<h4 id=\"instance_sort\" class=\"doc_header\"><code>instance_sort</code><a href=\"__main__.py#L2\" class=\"source_link\" style=\"float:right\">[source]</a></h4>\n",
       "\n",
       "> <code>instance_sort</code>(**`folder`**:`L'>)`)\n",
       "\n",
       "sort files by instance number"
      ],
      "text/plain": [
       "<IPython.core.display.Markdown object>"
      ]
     },
     "metadata": {},
     "output_type": "display_data"
    }
   ],
   "source": [
    "show_doc(instance_sort)"
   ]
  },
  {
   "cell_type": "code",
   "execution_count": null,
   "metadata": {},
   "outputs": [],
   "source": [
    "#export\n",
    "def instance_dcmread(folder:(L)):\n",
    "    \"instance dcmread\"\n",
    "    file = [dcmread(o[1]) for o in folder]\n",
    "    return file"
   ]
  },
  {
   "cell_type": "code",
   "execution_count": null,
   "metadata": {},
   "outputs": [
    {
     "data": {
      "text/markdown": [
       "<h4 id=\"instance_dcmread\" class=\"doc_header\"><code>instance_dcmread</code><a href=\"__main__.py#L2\" class=\"source_link\" style=\"float:right\">[source]</a></h4>\n",
       "\n",
       "> <code>instance_dcmread</code>(**`folder`**:`L`)\n",
       "\n",
       "instance dcmread"
      ],
      "text/plain": [
       "<IPython.core.display.Markdown object>"
      ]
     },
     "metadata": {},
     "output_type": "display_data"
    }
   ],
   "source": [
    "show_doc(instance_dcmread)"
   ]
  },
  {
   "cell_type": "code",
   "execution_count": null,
   "metadata": {},
   "outputs": [],
   "source": [
    "#export\n",
    "def instance_show(folder: (L), nrows=1):\n",
    "    \"show sorted files\"\n",
    "    f_list = []\n",
    "    for file in instance_sort(folder):\n",
    "        f = TensorDicom(dcmread(file[1]).pixel_array)\n",
    "        f_list.append(f)\n",
    "    return show_images(f_list, nrows=nrows)"
   ]
  },
  {
   "cell_type": "code",
   "execution_count": null,
   "metadata": {},
   "outputs": [
    {
     "data": {
      "text/markdown": [
       "<h4 id=\"instance_show\" class=\"doc_header\"><code>instance_show</code><a href=\"__main__.py#L2\" class=\"source_link\" style=\"float:right\">[source]</a></h4>\n",
       "\n",
       "> <code>instance_show</code>(**`folder`**:`L`, **`nrows`**=*`1`*)\n",
       "\n",
       "show sorted files"
      ],
      "text/plain": [
       "<IPython.core.display.Markdown object>"
      ]
     },
     "metadata": {},
     "output_type": "display_data"
    }
   ],
   "source": [
    "show_doc(instance_show)"
   ]
  },
  {
   "cell_type": "markdown",
   "metadata": {},
   "source": [
    "### View images"
   ]
  },
  {
   "cell_type": "code",
   "execution_count": null,
   "metadata": {},
   "outputs": [],
   "source": [
    "#export\n",
    "def get_dicom_image(df, key, nrows=3, source=None):\n",
    "    imgs=[]\n",
    "    title=[]\n",
    "    for i in df.index:\n",
    "        file_path = f\"{source}/{df.iloc[i]['PatientID']}/{df.iloc[i]['InstanceNumber']}.dcm\"\n",
    "        dcc = dcmread(file_path).pixel_array\n",
    "        imgs.append(dcc)\n",
    "        pct = df.iloc[i][key]\n",
    "        title.append(pct)\n",
    "    return show_images(imgs, titles=title, nrows=nrows)"
   ]
  },
  {
   "cell_type": "code",
   "execution_count": null,
   "metadata": {},
   "outputs": [
    {
     "data": {
      "text/markdown": [
       "<h4 id=\"get_dicom_image\" class=\"doc_header\"><code>get_dicom_image</code><a href=\"__main__.py#L2\" class=\"source_link\" style=\"float:right\">[source]</a></h4>\n",
       "\n",
       "> <code>get_dicom_image</code>(**`df`**, **`key`**, **`nrows`**=*`3`*, **`source`**=*`None`*)\n",
       "\n"
      ],
      "text/plain": [
       "<IPython.core.display.Markdown object>"
      ]
     },
     "metadata": {},
     "output_type": "display_data"
    }
   ],
   "source": [
    "show_doc(get_dicom_image)"
   ]
  },
  {
   "cell_type": "markdown",
   "metadata": {},
   "source": [
    "### Mask & Save"
   ]
  },
  {
   "cell_type": "code",
   "execution_count": null,
   "metadata": {},
   "outputs": [],
   "source": [
    "#export\n",
    "def mask_and_save(df, source=None, show=None, window=dicom_windows.lungs, sigma:float=0.1, thresh:float=0.9, save=False, save_path=None):\n",
    "    image_list = []\n",
    "    for i in df.index:\n",
    "        file_path = f\"{source}/{df.iloc[i]['PatientID']}/{df.iloc[i]['InstanceNumber']}.dcm\"\n",
    "        file_name = df.iloc[i]['InstanceNumber']\n",
    "        dcm = dcmread(file_path)\n",
    "        wind = dcm.windowed(*window)\n",
    "        mask = dcm.mask_from_blur(window, sigma=sigma, thresh=thresh, remove_max=False)\n",
    "        bbs = mask2bbox(mask)\n",
    "        lo,hi = bbs\n",
    "        imh = wind[lo[0]:hi[0],lo[1]:hi[1]]\n",
    "        if save is not False:\n",
    "            save_image(imh, f'{save_path}/{file_name}.png')\n",
    "        else:\n",
    "            pass\n",
    "        image_list.append(imh)\n",
    "    if show is not None:\n",
    "        show_images(image_list[:10], nrows=1)"
   ]
  },
  {
   "cell_type": "code",
   "execution_count": null,
   "metadata": {},
   "outputs": [
    {
     "data": {
      "text/markdown": [
       "<h4 id=\"mask_and_save\" class=\"doc_header\"><code>mask_and_save</code><a href=\"__main__.py#L2\" class=\"source_link\" style=\"float:right\">[source]</a></h4>\n",
       "\n",
       "> <code>mask_and_save</code>(**`df`**, **`source`**=*`None`*, **`show`**=*`None`*, **`window`**=*`(1500, -600)`*, **`sigma`**:`float`=*`0.1`*, **`thresh`**:`float`=*`0.9`*, **`save`**=*`False`*, **`save_path`**=*`None`*)\n",
       "\n"
      ],
      "text/plain": [
       "<IPython.core.display.Markdown object>"
      ]
     },
     "metadata": {},
     "output_type": "display_data"
    }
   ],
   "source": [
    "show_doc(mask_and_save)"
   ]
  },
  {
   "cell_type": "markdown",
   "metadata": {},
   "source": [
    "### Dicom metadata dict"
   ]
  },
  {
   "cell_type": "markdown",
   "metadata": {},
   "source": [
    "Change to allow selection of dicom window width and level"
   ]
  },
  {
   "cell_type": "code",
   "execution_count": null,
   "metadata": {},
   "outputs": [],
   "source": [
    "#export\n",
    "@patch\n",
    "def updated_dict(self:DcmDataset, windows=[dicom_windows.lungs]):\n",
    "    pxdata = (0x7fe0,0x0010)\n",
    "    vals = [self[o] for o in self.keys() if o != pxdata]\n",
    "    its = [(v.keyword, v.value) for v in vals]\n",
    "    res = dict(its)\n",
    "    \n",
    "    stats = 'min', 'max', 'mean', 'std'\n",
    "    pxs = self.pixel_array\n",
    "    for f in stats: res['img_'+f] = getattr(pxs, f)()\n",
    "    res['img_pct_window'] = self.pct_in_window(*windows)\n",
    "    res['file_path'] = f'{self.PatientID}/{self.InstanceNumber}.dcm'\n",
    "    return res"
   ]
  },
  {
   "cell_type": "code",
   "execution_count": null,
   "metadata": {},
   "outputs": [],
   "source": [
    "#export\n",
    "def _dcm2dict2(fn, windows, **kwargs): return fn.dcmread().updated_dict(windows, **kwargs)"
   ]
  },
  {
   "cell_type": "code",
   "execution_count": null,
   "metadata": {},
   "outputs": [],
   "source": [
    "#export\n",
    "@delegates(parallel)\n",
    "def _from_dicoms2(cls, fns, n_workers=0, **kwargs):\n",
    "    return pd.DataFrame(parallel(_dcm2dict2, fns, n_workers=n_workers, **kwargs))\n",
    "pd.DataFrame.from_dicoms2 = classmethod(_from_dicoms2)"
   ]
  },
  {
   "cell_type": "markdown",
   "metadata": {},
   "source": [
    "### dicom convert 3channel"
   ]
  },
  {
   "cell_type": "code",
   "execution_count": null,
   "metadata": {},
   "outputs": [],
   "source": [
    "#export\n",
    "def dicom_convert_3channel(fn:(Path,str), save_dir:(str), win1=dicom_windows.lungs, \\\n",
    "                           win2=dicom_windows.liver, win3=dicom_windows.brain):\n",
    "    \"Split a dicom image into 3 windows with each window per channel and saved as jpg\"\n",
    "    data = dcmread(fn)\n",
    "    file_name = str(fn); name = file_name.split('\\\\')[-1].split('.')[0]\n",
    "        \n",
    "    chan_one = np.expand_dims(data.windowed(*win1), axis=2)\n",
    "    chan_two = np.expand_dims(data.windowed(*win2), axis=2)\n",
    "    chan_three = np.expand_dims(data.windowed(*(win3)), axis=2)\n",
    "    image = np.concatenate([chan_one, chan_two, chan_three], axis=2)\n",
    "    ten_image = TensorImage(image).permute(2,0,1)\n",
    "    save_image(ten_image, f'{save_dir}/{name}.jpg')"
   ]
  },
  {
   "cell_type": "code",
   "execution_count": null,
   "metadata": {},
   "outputs": [
    {
     "data": {
      "text/markdown": [
       "<h4 id=\"dicom_convert_3channel\" class=\"doc_header\"><code>dicom_convert_3channel</code><a href=\"__main__.py#L2\" class=\"source_link\" style=\"float:right\">[source]</a></h4>\n",
       "\n",
       "> <code>dicom_convert_3channel</code>(**`fn`**:`Path'>, <class 'str'>)`, **`save_dir`**:`str`, **`win1`**=*`(1500, -600)`*, **`win2`**=*`(150, 30)`*, **`win3`**=*`(80, 40)`*)\n",
       "\n",
       "Split a dicom image into 3 windows with each window per channel and saved as jpg"
      ],
      "text/plain": [
       "<IPython.core.display.Markdown object>"
      ]
     },
     "metadata": {},
     "output_type": "display_data"
    }
   ],
   "source": [
    "show_doc(dicom_convert_3channel)"
   ]
  },
  {
   "cell_type": "code",
   "execution_count": null,
   "metadata": {},
   "outputs": [
    {
     "name": "stdout",
     "output_type": "stream",
     "text": [
      "Converted 00_core.ipynb.\n",
      "Converted index.ipynb.\n"
     ]
    }
   ],
   "source": [
    "#hide\n",
    "from nbdev.export import notebook2script\n",
    "notebook2script()"
   ]
  },
  {
   "cell_type": "code",
   "execution_count": null,
   "metadata": {},
   "outputs": [],
   "source": []
  }
 ],
 "metadata": {
  "kernelspec": {
   "display_name": "Python 3",
   "language": "python",
   "name": "python3"
  }
 },
 "nbformat": 4,
 "nbformat_minor": 2
}
