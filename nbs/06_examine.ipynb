{
 "cells": [
  {
   "cell_type": "code",
   "execution_count": null,
   "metadata": {},
   "outputs": [],
   "source": [
    "# default_exp examine\n",
    "%load_ext autoreload\n",
    "%autoreload 2"
   ]
  },
  {
   "cell_type": "markdown",
   "metadata": {},
   "source": [
    "# examine\n",
    "\n",
    "\n",
    "> API details."
   ]
  },
  {
   "cell_type": "code",
   "execution_count": null,
   "metadata": {},
   "outputs": [],
   "source": [
    "#hide\n",
    "from nbdev.showdoc import *"
   ]
  },
  {
   "cell_type": "code",
   "execution_count": null,
   "metadata": {},
   "outputs": [],
   "source": [
    "#export\n",
    "from fastai.layers import flatten_model\n",
    "from fastai.vision.all import *"
   ]
  },
  {
   "cell_type": "markdown",
   "metadata": {},
   "source": [
    "![pipeline](images/graphic11.PNG)"
   ]
  },
  {
   "cell_type": "code",
   "execution_count": null,
   "metadata": {},
   "outputs": [],
   "source": [
    "#export\n",
    "def visualize_layers(fn, learn, nrows=5, ncols=5):\n",
    "    \"Visualize how an image is transformed as it goes through the layers in the model\"\n",
    "    img_list = []; size_list = []\n",
    "    head_layer = flatten_model(learn.model[0])\n",
    "    print(f'Number of Layers: {len(head_layer)}')\n",
    "    for layer in head_layer:\n",
    "        layer_name = str(layer)\n",
    "        custom_hook = hook_output(layer)\n",
    "        learn.predict(fn)\n",
    "        activation = custom_hook.stored[0][0]\n",
    "        layimg = TensorImage(activation)\n",
    "        sh = layimg.shape\n",
    "        img_list.append(layimg)\n",
    "        size_list.append(sh)\n",
    "    show_images(img_list, titles=size_list, nrows=nrows, ncols=ncols);"
   ]
  },
  {
   "cell_type": "code",
   "execution_count": null,
   "metadata": {},
   "outputs": [],
   "source": [
    "#export\n",
    "def view_layers(image, layer:int, layers, learn):\n",
    "    lsl = []\n",
    "    custom_hook = hook_outputs(layers)\n",
    "    pre = learn.predict(image)\n",
    "    _,s,w,h = custom_hook.stored[layer].shape\n",
    "    for i in range(s):\n",
    "        acts = custom_hook.stored[layer][0][i]\n",
    "        lsl.append(acts)\n",
    "    print(f'Layer: {layers[layer]}')\n",
    "    print(f'Number of activations: {s}')\n",
    "    print(f'Image shape: {w, h}')\n",
    "    show_images(lsl, nrows=1)"
   ]
  },
  {
   "cell_type": "code",
   "execution_count": null,
   "metadata": {},
   "outputs": [],
   "source": [
    "#export\n",
    "class Hook():\n",
    "    def __init__(self, m):\n",
    "        self.hook = m.register_forward_hook(self.hook_func)   \n",
    "    def hook_func(self, m, i, o): self.stored = o.detach().clone()\n",
    "    def __enter__(self, *args): return self\n",
    "    def __exit__(self, *args): self.hook.remove()"
   ]
  },
  {
   "cell_type": "code",
   "execution_count": null,
   "metadata": {},
   "outputs": [],
   "source": [
    "#export\n",
    "class HookBwd():\n",
    "    def __init__(self, m):\n",
    "        self.hook = m.register_backward_hook(self.hook_func)   \n",
    "    def hook_func(self, m, gi, go): self.stored = go[0].detach().clone()\n",
    "    def __enter__(self, *args): return self\n",
    "    def __exit__(self, *args): self.hook.remove()"
   ]
  },
  {
   "cell_type": "code",
   "execution_count": null,
   "metadata": {},
   "outputs": [],
   "source": [
    "#export\n",
    "def view_activations(x, cls, dls, learn, layer):\n",
    "    \"View activations by layer by image\"\n",
    "    print(layer)\n",
    "    with HookBwd(layer) as hookg:\n",
    "        with Hook(layer) as hook:\n",
    "            output = learn.model.eval()(x.cuda())\n",
    "            act = hook.stored\n",
    "        output[0,cls].backward()\n",
    "        grad = hookg.stored\n",
    "    \n",
    "    w = grad[0].mean(dim=[1,2], keepdim=True)\n",
    "    cam_map = (w * act[0]).sum(0)\n",
    "    \n",
    "    x_dec = TensorImage(dls.train.decode((x,))[0][0])\n",
    "    \n",
    "    _,ax = plt.subplots()\n",
    "    x_dec.show(ctx=ax)\n",
    "    ax.imshow(cam_map.detach().cpu(), alpha=0.6, extent=(0,x_dec.shape[1],x_dec.shape[2],0),\n",
    "              interpolation='bilinear', cmap='magma');"
   ]
  },
  {
   "cell_type": "code",
   "execution_count": null,
   "metadata": {},
   "outputs": [
    {
     "name": "stdout",
     "output_type": "stream",
     "text": [
      "Converted 02_explore.ipynb.\n",
      "Converted 03_preprocessing.ipynb.\n",
      "Converted 04_pipeline.ipynb.\n",
      "Converted 05_train.ipynb.\n",
      "Converted 06_examine.ipynb.\n",
      "Converted 10_wearable.ipynb.\n",
      "Converted 20_retinanet.ipynb.\n",
      "Converted 90_tutorial.ipynb.\n",
      "Converted index.ipynb.\n"
     ]
    }
   ],
   "source": [
    "#hide\n",
    "from nbdev.export import notebook2script\n",
    "notebook2script()"
   ]
  },
  {
   "cell_type": "code",
   "execution_count": null,
   "metadata": {},
   "outputs": [],
   "source": []
  }
 ],
 "metadata": {
  "kernelspec": {
   "display_name": "Python 3",
   "language": "python",
   "name": "python3"
  }
 },
 "nbformat": 4,
 "nbformat_minor": 4
}
