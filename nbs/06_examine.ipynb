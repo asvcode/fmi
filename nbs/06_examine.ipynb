{
 "cells": [
  {
   "cell_type": "code",
   "execution_count": 1,
   "metadata": {},
   "outputs": [],
   "source": [
    "# default_exp examine\n",
    "%load_ext autoreload\n",
    "%autoreload 2"
   ]
  },
  {
   "cell_type": "markdown",
   "metadata": {},
   "source": [
    "# examine\n",
    "\n",
    "\n",
    "> API details."
   ]
  },
  {
   "cell_type": "code",
   "execution_count": 2,
   "metadata": {},
   "outputs": [],
   "source": [
    "#hide\n",
    "from nbdev.showdoc import *"
   ]
  },
  {
   "cell_type": "code",
   "execution_count": 3,
   "metadata": {},
   "outputs": [],
   "source": [
    "#export\n",
    "from fastai.layers import flatten_model\n",
    "from fastai.vision.all import *"
   ]
  },
  {
   "cell_type": "markdown",
   "metadata": {},
   "source": [
    "![pipeline](images/graphic11.PNG)"
   ]
  },
  {
   "cell_type": "code",
   "execution_count": 10,
   "metadata": {},
   "outputs": [],
   "source": [
    "#export\n",
    "def visualize_layers(fn, learn, nrows=5, ncols=5):\n",
    "    \"Visualize how an image is transformed as it goes through the layers in the model\"\n",
    "    img_list = []; size_list = []\n",
    "    head_layer = flatten_model(learn.model[0])\n",
    "    print(f'Number of Layers: {len(head_layer)}')\n",
    "    for layer in head_layer:\n",
    "        layer_name = str(layer)\n",
    "        custom_hook = hook_output(layer)\n",
    "        learn.predict(fn)\n",
    "        activation = custom_hook.stored[0][0]\n",
    "        layimg = TensorImage(activation)\n",
    "        sh = layimg.shape\n",
    "        img_list.append(layimg)\n",
    "        size_list.append(sh)\n",
    "    show_images(img_list, titles=size_list, nrows=nrows, ncols=ncols);"
   ]
  },
  {
   "cell_type": "code",
   "execution_count": 12,
   "metadata": {},
   "outputs": [],
   "source": [
    "#export\n",
    "def view_layers(image, layer:int, layers, **kwargs):\n",
    "    lsl = []\n",
    "    custom_hook = hook_outputs(layers)\n",
    "    pre = learn.predict(image)\n",
    "    _,s,w,h = custom_hook.stored[layer].shape\n",
    "    for i in range(s):\n",
    "        acts = custom_hook.stored[layer][0][i]\n",
    "        lsl.append(acts)\n",
    "    print(f'Layer: {layers[layer]}')\n",
    "    print(f'Number of activations: {s}')\n",
    "    print(f'Image shape: {w, h}')\n",
    "    show_images(lsl, nrows=1)"
   ]
  },
  {
   "cell_type": "code",
   "execution_count": 13,
   "metadata": {},
   "outputs": [
    {
     "name": "stdout",
     "output_type": "stream",
     "text": [
      "Converted 02_explore.ipynb.\n",
      "Converted 03_preprocessing.ipynb.\n",
      "Converted 04_pipeline.ipynb.\n",
      "Converted 05_train.ipynb.\n",
      "Converted 06_examine.ipynb.\n",
      "Converted 10_wearable.ipynb.\n",
      "Converted 90_tutorial.ipynb.\n",
      "Converted index.ipynb.\n"
     ]
    }
   ],
   "source": [
    "#hide\n",
    "from nbdev.export import notebook2script\n",
    "notebook2script()"
   ]
  },
  {
   "cell_type": "code",
   "execution_count": null,
   "metadata": {},
   "outputs": [],
   "source": []
  }
 ],
 "metadata": {
  "kernelspec": {
   "display_name": "Python 3",
   "language": "python",
   "name": "python3"
  },
  "language_info": {
   "codemirror_mode": {
    "name": "ipython",
    "version": 3
   },
   "file_extension": ".py",
   "mimetype": "text/x-python",
   "name": "python",
   "nbconvert_exporter": "python",
   "pygments_lexer": "ipython3",
   "version": "3.7.9"
  }
 },
 "nbformat": 4,
 "nbformat_minor": 4
}
